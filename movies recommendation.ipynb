{
 "cells": [
  {
   "cell_type": "markdown",
   "metadata": {},
   "source": [
    "### Importing usefull Library "
   ]
  },
  {
   "cell_type": "code",
   "execution_count": 1,
   "metadata": {},
   "outputs": [],
   "source": [
    "import os\n",
    "import pandas as pd\n",
    "import numpy as np\n",
    "import surprise\n",
    "from surprise.model_selection import train_test_split\n",
    "from surprise import Dataset\n",
    "from surprise import accuracy\n",
    "from surprise import Reader\n",
    "from surprise import KNNWithMeans"
   ]
  },
  {
   "cell_type": "code",
   "execution_count": 2,
   "metadata": {},
   "outputs": [
    {
     "data": {
      "text/plain": [
       "'D:\\\\Manipal Data Science\\\\Term 2\\\\Machine Learning\\\\ML Assignmnt\\\\Assignment3\\\\ml-latest-small'"
      ]
     },
     "execution_count": 2,
     "metadata": {},
     "output_type": "execute_result"
    }
   ],
   "source": [
    "os.getcwd()"
   ]
  },
  {
   "cell_type": "code",
   "execution_count": 3,
   "metadata": {},
   "outputs": [],
   "source": [
    "path = 'D:\\\\Manipal Data Science\\\\Term 2\\\\Machine Learning\\\\ML Assignmnt\\\\Assignment3\\\\ml-latest-small'\n",
    "os.chdir(path)"
   ]
  },
  {
   "cell_type": "code",
   "execution_count": 4,
   "metadata": {},
   "outputs": [],
   "source": [
    "rating = pd.read_csv(\"ratings.csv\")\n",
    "link = pd.read_csv(\"links.csv\")\n",
    "movie = pd.read_csv(\"movies.csv\")\n",
    "tag = pd.read_csv(\"tags.csv\")"
   ]
  },
  {
   "cell_type": "code",
   "execution_count": 5,
   "metadata": {},
   "outputs": [
    {
     "data": {
      "text/html": [
       "<div>\n",
       "<style scoped>\n",
       "    .dataframe tbody tr th:only-of-type {\n",
       "        vertical-align: middle;\n",
       "    }\n",
       "\n",
       "    .dataframe tbody tr th {\n",
       "        vertical-align: top;\n",
       "    }\n",
       "\n",
       "    .dataframe thead th {\n",
       "        text-align: right;\n",
       "    }\n",
       "</style>\n",
       "<table border=\"1\" class=\"dataframe\">\n",
       "  <thead>\n",
       "    <tr style=\"text-align: right;\">\n",
       "      <th></th>\n",
       "      <th>movieId</th>\n",
       "      <th>title</th>\n",
       "      <th>genres</th>\n",
       "    </tr>\n",
       "  </thead>\n",
       "  <tbody>\n",
       "    <tr>\n",
       "      <th>0</th>\n",
       "      <td>1</td>\n",
       "      <td>Toy Story (1995)</td>\n",
       "      <td>Adventure|Animation|Children|Comedy|Fantasy</td>\n",
       "    </tr>\n",
       "    <tr>\n",
       "      <th>1</th>\n",
       "      <td>2</td>\n",
       "      <td>Jumanji (1995)</td>\n",
       "      <td>Adventure|Children|Fantasy</td>\n",
       "    </tr>\n",
       "    <tr>\n",
       "      <th>2</th>\n",
       "      <td>3</td>\n",
       "      <td>Grumpier Old Men (1995)</td>\n",
       "      <td>Comedy|Romance</td>\n",
       "    </tr>\n",
       "    <tr>\n",
       "      <th>3</th>\n",
       "      <td>4</td>\n",
       "      <td>Waiting to Exhale (1995)</td>\n",
       "      <td>Comedy|Drama|Romance</td>\n",
       "    </tr>\n",
       "    <tr>\n",
       "      <th>4</th>\n",
       "      <td>5</td>\n",
       "      <td>Father of the Bride Part II (1995)</td>\n",
       "      <td>Comedy</td>\n",
       "    </tr>\n",
       "  </tbody>\n",
       "</table>\n",
       "</div>"
      ],
      "text/plain": [
       "   movieId                               title  \\\n",
       "0        1                    Toy Story (1995)   \n",
       "1        2                      Jumanji (1995)   \n",
       "2        3             Grumpier Old Men (1995)   \n",
       "3        4            Waiting to Exhale (1995)   \n",
       "4        5  Father of the Bride Part II (1995)   \n",
       "\n",
       "                                        genres  \n",
       "0  Adventure|Animation|Children|Comedy|Fantasy  \n",
       "1                   Adventure|Children|Fantasy  \n",
       "2                               Comedy|Romance  \n",
       "3                         Comedy|Drama|Romance  \n",
       "4                                       Comedy  "
      ]
     },
     "execution_count": 5,
     "metadata": {},
     "output_type": "execute_result"
    }
   ],
   "source": [
    "movie.head()"
   ]
  },
  {
   "cell_type": "markdown",
   "metadata": {},
   "source": [
    "### 1.\tCreate recommender system using ratings.csv file"
   ]
  },
  {
   "cell_type": "code",
   "execution_count": 6,
   "metadata": {},
   "outputs": [],
   "source": [
    "reader = Reader(rating_scale=(1,5))\n",
    "data = Dataset.load_from_df(rating[['userId','movieId','rating']], reader)"
   ]
  },
  {
   "cell_type": "code",
   "execution_count": 7,
   "metadata": {},
   "outputs": [
    {
     "name": "stdout",
     "output_type": "stream",
     "text": [
      "Computing the cosine similarity matrix...\n",
      "Done computing similarity matrix.\n",
      "RMSE: 0.7840\n"
     ]
    }
   ],
   "source": [
    "[trainset,testset] = train_test_split(data, test_size=0.15, shuffle=True)\n",
    "\n",
    "recom = KNNWithMeans(k=70, sim_options={'name':'cosine','user_based':True})\n",
    "\n",
    "recom.fit(data.build_full_trainset())      # using full training set and not doing k\n",
    "\n",
    "test_pred = recom.test(testset)\n",
    "RMSE = accuracy.rmse(test_pred)\n"
   ]
  },
  {
   "cell_type": "markdown",
   "metadata": {},
   "source": [
    "### 2.\tDisplay predicted rating for a particular userID and MovieID combinations (both taken as keyboard input)"
   ]
  },
  {
   "cell_type": "code",
   "execution_count": 8,
   "metadata": {},
   "outputs": [
    {
     "name": "stdout",
     "output_type": "stream",
     "text": [
      "Enter the userID: 6\n",
      "Enter the movieID: 600\n",
      "rating for the userID: 6 and movieID 600 is:  3.98\n"
     ]
    }
   ],
   "source": [
    "userID = int(input(\"Enter the userID: \"))\n",
    "movieID = int(input(\"Enter the movieID: \"))\n",
    "print(\"rating for the userID:\",userID, \"and\",'movieID',movieID ,'is: ',round(recom.predict(userID,movieID)[3],2))"
   ]
  },
  {
   "cell_type": "code",
   "execution_count": 9,
   "metadata": {},
   "outputs": [
    {
     "data": {
      "text/plain": [
       "((100836, 4), (3683, 4), (9742, 3), (9742, 3))"
      ]
     },
     "execution_count": 9,
     "metadata": {},
     "output_type": "execute_result"
    }
   ],
   "source": [
    "rating.shape,tag.shape,movie.shape,link.shape"
   ]
  },
  {
   "cell_type": "markdown",
   "metadata": {},
   "source": [
    "### 3.\tRecommend a user to watch top 10 movies, which has not watched yet (as per his rating predictions) ,threshold rating as 2.5"
   ]
  },
  {
   "cell_type": "code",
   "execution_count": 28,
   "metadata": {},
   "outputs": [
    {
     "name": "stdout",
     "output_type": "stream",
     "text": [
      "Enter user_id: 6\n",
      "\n",
      "\n",
      "Ten Suggested movies for user 6 are listed below\n",
      "1 --> Denise Calls Up (1995)\n",
      "2 --> Babes in Toyland (1934)\n",
      "3 --> On the Beach (1959)\n",
      "4 --> Bossa Nova (2000)\n",
      "5 --> Man with the Golden Arm, The (1955)\n",
      "6 --> Slumber Party Massacre II (1987)\n",
      "7 --> Slumber Party Massacre III (1990)\n",
      "8 --> Sorority House Massacre (1986)\n",
      "9 --> Sorority House Massacre II (1990)\n",
      "10 --> Two Family House (2000)\n"
     ]
    }
   ],
   "source": [
    "movie_list = {}\n",
    "user_id = int(input('Enter user_id: '))\n",
    "for movie_id in range(1,193609):\n",
    "    if recom.predict(user_id,movie_id)[3] > 2.5:\n",
    "        movie_list[movie_id] = recom.predict(user_id,movie_id)[3]\n",
    "\n",
    "        \n",
    "from collections import Counter\n",
    "\n",
    "movie_rating = Counter(movie_list)\n",
    "high_rated_movie = movie_rating.most_common(10)\n",
    "print(\"\\n\")\n",
    "print(\"Ten Suggested movies for user {0} are listed below\".format(user_id))\n",
    "\n",
    "\n",
    "for i in range(10):\n",
    "    print(i+1,\"-->\",list(movie[movie.movieId==high_rated_movie[i][0]][\"title\"])[0])"
   ]
  },
  {
   "cell_type": "markdown",
   "metadata": {},
   "source": [
    "### 4.\tDisplay the MovieID, IMDB ID, Average User Rating  genres and tag of all the movies as a data frame."
   ]
  },
  {
   "cell_type": "markdown",
   "metadata": {},
   "source": [
    "----"
   ]
  },
  {
   "cell_type": "code",
   "execution_count": 29,
   "metadata": {},
   "outputs": [
    {
     "data": {
      "text/plain": [
       "userId       0\n",
       "movieId      0\n",
       "rating       0\n",
       "timestamp    0\n",
       "dtype: int64"
      ]
     },
     "execution_count": 29,
     "metadata": {},
     "output_type": "execute_result"
    }
   ],
   "source": [
    "rating.isnull().sum()"
   ]
  },
  {
   "cell_type": "code",
   "execution_count": 31,
   "metadata": {},
   "outputs": [],
   "source": [
    "avg_rating = {}\n",
    "for i in range(1,193609):\n",
    "    if (i==33)|(i==35)|(i==37):                   #these movieid has no rating\n",
    "        pass\n",
    "    else:\n",
    "        avg_rating[i] = round((rating[rating.movieId == i]['rating'].mean()),2)"
   ]
  },
  {
   "cell_type": "code",
   "execution_count": 32,
   "metadata": {},
   "outputs": [
    {
     "data": {
      "text/html": [
       "<div>\n",
       "<style scoped>\n",
       "    .dataframe tbody tr th:only-of-type {\n",
       "        vertical-align: middle;\n",
       "    }\n",
       "\n",
       "    .dataframe tbody tr th {\n",
       "        vertical-align: top;\n",
       "    }\n",
       "\n",
       "    .dataframe thead th {\n",
       "        text-align: right;\n",
       "    }\n",
       "</style>\n",
       "<table border=\"1\" class=\"dataframe\">\n",
       "  <thead>\n",
       "    <tr style=\"text-align: right;\">\n",
       "      <th></th>\n",
       "      <th>movieId</th>\n",
       "      <th>rating</th>\n",
       "      <th>tag</th>\n",
       "      <th>imdbId</th>\n",
       "      <th>genres</th>\n",
       "    </tr>\n",
       "  </thead>\n",
       "  <tbody>\n",
       "    <tr>\n",
       "      <th>0</th>\n",
       "      <td>1</td>\n",
       "      <td>4.0</td>\n",
       "      <td>pixar</td>\n",
       "      <td>114709</td>\n",
       "      <td>Adventure|Animation|Children|Comedy|Fantasy</td>\n",
       "    </tr>\n",
       "    <tr>\n",
       "      <th>1</th>\n",
       "      <td>1</td>\n",
       "      <td>4.0</td>\n",
       "      <td>pixar</td>\n",
       "      <td>114709</td>\n",
       "      <td>Adventure|Animation|Children|Comedy|Fantasy</td>\n",
       "    </tr>\n",
       "    <tr>\n",
       "      <th>2</th>\n",
       "      <td>1</td>\n",
       "      <td>4.0</td>\n",
       "      <td>fun</td>\n",
       "      <td>114709</td>\n",
       "      <td>Adventure|Animation|Children|Comedy|Fantasy</td>\n",
       "    </tr>\n",
       "    <tr>\n",
       "      <th>3</th>\n",
       "      <td>3</td>\n",
       "      <td>4.0</td>\n",
       "      <td>moldy</td>\n",
       "      <td>113228</td>\n",
       "      <td>Comedy|Romance</td>\n",
       "    </tr>\n",
       "    <tr>\n",
       "      <th>4</th>\n",
       "      <td>3</td>\n",
       "      <td>4.0</td>\n",
       "      <td>old</td>\n",
       "      <td>113228</td>\n",
       "      <td>Comedy|Romance</td>\n",
       "    </tr>\n",
       "  </tbody>\n",
       "</table>\n",
       "</div>"
      ],
      "text/plain": [
       "   movieId  rating    tag  imdbId                                       genres\n",
       "0        1     4.0  pixar  114709  Adventure|Animation|Children|Comedy|Fantasy\n",
       "1        1     4.0  pixar  114709  Adventure|Animation|Children|Comedy|Fantasy\n",
       "2        1     4.0    fun  114709  Adventure|Animation|Children|Comedy|Fantasy\n",
       "3        3     4.0  moldy  113228                               Comedy|Romance\n",
       "4        3     4.0    old  113228                               Comedy|Romance"
      ]
     },
     "execution_count": 32,
     "metadata": {},
     "output_type": "execute_result"
    }
   ],
   "source": [
    "df1 = pd.merge(rating[[\"movieId\",\"rating\"]],tag[[\"movieId\",\"tag\"]],how=\"left\",on=\"movieId\")\n",
    "\n",
    "df2 = pd.merge(df1,link[[\"movieId\",\"imdbId\"]],how=\"left\",on=\"movieId\")\n",
    "new_df = pd.merge(df2,movie[[\"movieId\",\"genres\"]],how=\"left\",on=\"movieId\")\n",
    "new_df.head()"
   ]
  },
  {
   "cell_type": "code",
   "execution_count": 33,
   "metadata": {},
   "outputs": [],
   "source": [
    "ls = []\n",
    "for i in range(10):\n",
    "    ls.append(high_rated_movie[i][0])\n",
    "df4 = new_df[new_df[\"movieId\"].isin(ls)]\n",
    "\n",
    "#dropping rating column and we will replace that with avg_rating\n",
    "df4 = df4.drop(\"rating\",axis=1) #once you drop this column do not run it just comment it\n"
   ]
  },
  {
   "cell_type": "code",
   "execution_count": 34,
   "metadata": {},
   "outputs": [],
   "source": [
    "id_rating_pair = [(x,y) for x,y in avg_rating.items() if x in ls]\n",
    "\n",
    "new_rating = []\n",
    "for i in range(len(id_rating_pair)):\n",
    "    new_rating.append(id_rating_pair[i][1])\n"
   ]
  },
  {
   "cell_type": "code",
   "execution_count": 35,
   "metadata": {},
   "outputs": [
    {
     "data": {
      "text/html": [
       "<div>\n",
       "<style scoped>\n",
       "    .dataframe tbody tr th:only-of-type {\n",
       "        vertical-align: middle;\n",
       "    }\n",
       "\n",
       "    .dataframe tbody tr th {\n",
       "        vertical-align: top;\n",
       "    }\n",
       "\n",
       "    .dataframe thead th {\n",
       "        text-align: right;\n",
       "    }\n",
       "</style>\n",
       "<table border=\"1\" class=\"dataframe\">\n",
       "  <thead>\n",
       "    <tr style=\"text-align: right;\">\n",
       "      <th></th>\n",
       "      <th>movieId</th>\n",
       "      <th>tag</th>\n",
       "      <th>imdbId</th>\n",
       "      <th>genres</th>\n",
       "      <th>avg_rating</th>\n",
       "    </tr>\n",
       "  </thead>\n",
       "  <tbody>\n",
       "    <tr>\n",
       "      <th>249016</th>\n",
       "      <td>633</td>\n",
       "      <td>NaN</td>\n",
       "      <td>112844</td>\n",
       "      <td>Comedy</td>\n",
       "      <td>5.0</td>\n",
       "    </tr>\n",
       "    <tr>\n",
       "      <th>129864</th>\n",
       "      <td>3086</td>\n",
       "      <td>NaN</td>\n",
       "      <td>24852</td>\n",
       "      <td>Children|Comedy|Fantasy|Musical</td>\n",
       "      <td>5.0</td>\n",
       "    </tr>\n",
       "    <tr>\n",
       "      <th>271220</th>\n",
       "      <td>3379</td>\n",
       "      <td>NaN</td>\n",
       "      <td>53137</td>\n",
       "      <td>Drama</td>\n",
       "      <td>4.5</td>\n",
       "    </tr>\n",
       "    <tr>\n",
       "      <th>153010</th>\n",
       "      <td>3567</td>\n",
       "      <td>NaN</td>\n",
       "      <td>180837</td>\n",
       "      <td>Comedy|Drama|Romance</td>\n",
       "      <td>5.0</td>\n",
       "    </tr>\n",
       "    <tr>\n",
       "      <th>249685</th>\n",
       "      <td>3678</td>\n",
       "      <td>NaN</td>\n",
       "      <td>48347</td>\n",
       "      <td>Drama</td>\n",
       "      <td>5.0</td>\n",
       "    </tr>\n",
       "    <tr>\n",
       "      <th>246201</th>\n",
       "      <td>3939</td>\n",
       "      <td>NaN</td>\n",
       "      <td>93996</td>\n",
       "      <td>Horror</td>\n",
       "      <td>5.0</td>\n",
       "    </tr>\n",
       "    <tr>\n",
       "      <th>246202</th>\n",
       "      <td>3940</td>\n",
       "      <td>NaN</td>\n",
       "      <td>100639</td>\n",
       "      <td>Horror</td>\n",
       "      <td>5.0</td>\n",
       "    </tr>\n",
       "    <tr>\n",
       "      <th>246203</th>\n",
       "      <td>3941</td>\n",
       "      <td>NaN</td>\n",
       "      <td>91990</td>\n",
       "      <td>Horror</td>\n",
       "      <td>5.0</td>\n",
       "    </tr>\n",
       "    <tr>\n",
       "      <th>246204</th>\n",
       "      <td>3942</td>\n",
       "      <td>NaN</td>\n",
       "      <td>100663</td>\n",
       "      <td>Horror</td>\n",
       "      <td>5.0</td>\n",
       "    </tr>\n",
       "    <tr>\n",
       "      <th>189301</th>\n",
       "      <td>3951</td>\n",
       "      <td>In Netflix queue</td>\n",
       "      <td>202641</td>\n",
       "      <td>Drama</td>\n",
       "      <td>5.0</td>\n",
       "    </tr>\n",
       "  </tbody>\n",
       "</table>\n",
       "</div>"
      ],
      "text/plain": [
       "        movieId               tag  imdbId                           genres  \\\n",
       "249016      633               NaN  112844                           Comedy   \n",
       "129864     3086               NaN   24852  Children|Comedy|Fantasy|Musical   \n",
       "271220     3379               NaN   53137                            Drama   \n",
       "153010     3567               NaN  180837             Comedy|Drama|Romance   \n",
       "249685     3678               NaN   48347                            Drama   \n",
       "246201     3939               NaN   93996                           Horror   \n",
       "246202     3940               NaN  100639                           Horror   \n",
       "246203     3941               NaN   91990                           Horror   \n",
       "246204     3942               NaN  100663                           Horror   \n",
       "189301     3951  In Netflix queue  202641                            Drama   \n",
       "\n",
       "        avg_rating  \n",
       "249016         5.0  \n",
       "129864         5.0  \n",
       "271220         4.5  \n",
       "153010         5.0  \n",
       "249685         5.0  \n",
       "246201         5.0  \n",
       "246202         5.0  \n",
       "246203         5.0  \n",
       "246204         5.0  \n",
       "189301         5.0  "
      ]
     },
     "execution_count": 35,
     "metadata": {},
     "output_type": "execute_result"
    }
   ],
   "source": [
    "final_df = df4.sort_values(by=\"movieId\")\n",
    "final_df[\"avg_rating\"] = new_rating\n",
    "final_df"
   ]
  },
  {
   "cell_type": "markdown",
   "metadata": {},
   "source": [
    "-------"
   ]
  }
 ],
 "metadata": {
  "kernelspec": {
   "display_name": "Python 3",
   "language": "python",
   "name": "python3"
  },
  "language_info": {
   "codemirror_mode": {
    "name": "ipython",
    "version": 3
   },
   "file_extension": ".py",
   "mimetype": "text/x-python",
   "name": "python",
   "nbconvert_exporter": "python",
   "pygments_lexer": "ipython3",
   "version": "3.7.1"
  }
 },
 "nbformat": 4,
 "nbformat_minor": 2
}
